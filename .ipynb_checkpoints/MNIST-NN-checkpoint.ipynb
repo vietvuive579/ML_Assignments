{
 "cells": [
  {
   "cell_type": "code",
   "execution_count": null,
   "metadata": {
    "id": "YFy_9D1TXsIw"
   },
   "outputs": [],
   "source": [
    "#Load MNIST dataset\n",
    "# MNIST dataset has a shape of (70000, 784) meaning there are 70,000 images with 784 dimensions (784 features).\n",
    "from sklearn.datasets import fetch_openml\n",
    "mnist = fetch_openml(\"mnist_784\")"
   ]
  },
  {
   "cell_type": "code",
   "execution_count": null,
   "metadata": {
    "colab": {
     "base_uri": "https://localhost:8080/"
    },
    "executionInfo": {
     "elapsed": 512,
     "status": "ok",
     "timestamp": 1623557702098,
     "user": {
      "displayName": "Huy Nguyễn Tiến",
      "photoUrl": "",
      "userId": "14788740065847059351"
     },
     "user_tz": -420
    },
    "id": "MELc_o8AlE71",
    "outputId": "2d480e1c-f3b7-47c9-b7a9-8cc746bcc5ab"
   },
   "outputs": [],
   "source": [
    "#Explore the first image in MNIST dataset\n",
    "mnist.data[0]"
   ]
  },
  {
   "cell_type": "code",
   "execution_count": null,
   "metadata": {
    "colab": {
     "base_uri": "https://localhost:8080/",
     "height": 282
    },
    "executionInfo": {
     "elapsed": 305,
     "status": "ok",
     "timestamp": 1623557844342,
     "user": {
      "displayName": "Huy Nguyễn Tiến",
      "photoUrl": "",
      "userId": "14788740065847059351"
     },
     "user_tz": -420
    },
    "id": "QXm544OvliH_",
    "outputId": "2793c2db-440c-4b02-95de-7a5a9ffab6de"
   },
   "outputs": [],
   "source": [
    "import matplotlib.pyplot as plt\n",
    "plt.imshow(mnist.data[0].reshape(28,28), cmap='gray')"
   ]
  },
  {
   "cell_type": "code",
   "execution_count": null,
   "metadata": {
    "colab": {
     "base_uri": "https://localhost:8080/",
     "height": 35
    },
    "executionInfo": {
     "elapsed": 263,
     "status": "ok",
     "timestamp": 1623557756204,
     "user": {
      "displayName": "Huy Nguyễn Tiến",
      "photoUrl": "",
      "userId": "14788740065847059351"
     },
     "user_tz": -420
    },
    "id": "OVlcKj0clS74",
    "outputId": "7ad77e22-7507-4a34-ba46-c5568a42a125"
   },
   "outputs": [],
   "source": [
    "mnist.target[0]"
   ]
  },
  {
   "cell_type": "code",
   "execution_count": null,
   "metadata": {
    "colab": {
     "base_uri": "https://localhost:8080/"
    },
    "executionInfo": {
     "elapsed": 1145,
     "status": "ok",
     "timestamp": 1623557631519,
     "user": {
      "displayName": "Huy Nguyễn Tiến",
      "photoUrl": "",
      "userId": "14788740065847059351"
     },
     "user_tz": -420
    },
    "id": "shi_6h_6X5i6",
    "outputId": "bce4fecd-0d4c-4719-abe4-43185bc79153"
   },
   "outputs": [],
   "source": [
    "from sklearn.model_selection import train_test_split\n",
    "# test_size: what proportion of original data is used for test set\n",
    "train_img, test_img, train_lbl, test_lbl = train_test_split( mnist.data, mnist.target, test_size=1/7.0, random_state=0)\n",
    "train_lbl[0:10]\n",
    "train_img.shape"
   ]
  },
  {
   "cell_type": "code",
   "execution_count": null,
   "metadata": {
    "colab": {
     "base_uri": "https://localhost:8080/"
    },
    "executionInfo": {
     "elapsed": 281,
     "status": "ok",
     "timestamp": 1623557685979,
     "user": {
      "displayName": "Huy Nguyễn Tiến",
      "photoUrl": "",
      "userId": "14788740065847059351"
     },
     "user_tz": -420
    },
    "id": "mkFeFXoGa01d",
    "outputId": "4f0a905d-0381-4761-c1e7-fde1dc03571b"
   },
   "outputs": [],
   "source": [
    "from tensorflow.keras.utils import to_categorical\n",
    "train_onehot_lbl = to_categorical(train_lbl,num_classes=10)\n",
    "test_onehot_lbl = to_categorical(test_lbl,num_classes=10)\n",
    "train_onehot_lbl[0:10]"
   ]
  },
  {
   "cell_type": "code",
   "execution_count": null,
   "metadata": {
    "colab": {
     "base_uri": "https://localhost:8080/"
    },
    "executionInfo": {
     "elapsed": 143269,
     "status": "ok",
     "timestamp": 1623558135991,
     "user": {
      "displayName": "Huy Nguyễn Tiến",
      "photoUrl": "",
      "userId": "14788740065847059351"
     },
     "user_tz": -420
    },
    "id": "vU8yeoEVYDAX",
    "outputId": "eacfbb34-4bca-4e01-bfbb-112150825102"
   },
   "outputs": [],
   "source": [
    "import tensorflow as tf\n",
    "from tensorflow.keras.layers import *\n",
    "from tensorflow.keras.models import Model\n",
    "\n",
    "input_layer = Input(shape=(784,))\n",
    "hidden_layer = Dense(30,activation=\"sigmoid\")(input_layer)\n",
    "dense_layer = Dense(10, activation=\"softmax\")(hidden_layer)\n",
    "\n",
    "model = Model(inputs=input_layer, outputs=dense_layer)\n",
    "model.compile(loss='categorical_crossentropy', optimizer=\"adam\", metrics=[\"accuracy\"])\n",
    "\n",
    "model.fit(train_img,train_onehot_lbl,validation_data=(test_img,test_onehot_lbl), epochs= 20, batch_size=20)\n"
   ]
  },
  {
   "cell_type": "code",
   "execution_count": null,
   "metadata": {
    "colab": {
     "base_uri": "https://localhost:8080/"
    },
    "executionInfo": {
     "elapsed": 84303,
     "status": "ok",
     "timestamp": 1623558221180,
     "user": {
      "displayName": "Huy Nguyễn Tiến",
      "photoUrl": "",
      "userId": "14788740065847059351"
     },
     "user_tz": -420
    },
    "id": "BxCgfOkgbXAe",
    "outputId": "6bf3611c-464c-410a-b931-203e61c33d38"
   },
   "outputs": [],
   "source": [
    "import tensorflow as tf\n",
    "from tensorflow.keras.layers import *\n",
    "from tensorflow.keras.models import Model\n",
    "\n",
    "input_layer = Input(shape=(784,))\n",
    "dense_layer1 = Dense(100,activation=\"sigmoid\")(input_layer) \n",
    "dense_layer2 = Dense(80,activation=\"sigmoid\")(dense_layer1)\n",
    "dense_layer3 = Dense(50,activation=\"sigmoid\")(dense_layer2)\n",
    "dense_layer4 = Dense(10, activation=\"softmax\")(dense_layer3)  \n",
    "\n",
    "model = Model(inputs=input_layer, outputs=dense_layer4)\n",
    "model.compile(loss='categorical_crossentropy', optimizer=\"adam\",metrics=[\"accuracy\"])\n",
    "\n",
    "model.summary()\n",
    "\n",
    "model.fit(train_img,train_onehot_lbl,validation_data=(test_img,test_onehot_lbl), epochs= 5, batch_size=10)\n"
   ]
  },
  {
   "cell_type": "code",
   "execution_count": null,
   "metadata": {
    "colab": {
     "base_uri": "https://localhost:8080/"
    },
    "executionInfo": {
     "elapsed": 14,
     "status": "ok",
     "timestamp": 1623558221181,
     "user": {
      "displayName": "Huy Nguyễn Tiến",
      "photoUrl": "",
      "userId": "14788740065847059351"
     },
     "user_tz": -420
    },
    "id": "wWKAx3P6jeIA",
    "outputId": "f883fea2-25ca-46db-b814-b0e8e74eae8b"
   },
   "outputs": [],
   "source": [
    "model.predict(test_img[0:2])"
   ]
  }
 ],
 "metadata": {
  "accelerator": "TPU",
  "colab": {
   "collapsed_sections": [],
   "name": "MNIST-NN.ipynb",
   "provenance": [
    {
     "file_id": "1h-mNrQDmdUy1IDwY_QaO4uFKqd3EGrgI",
     "timestamp": 1649067989162
    }
   ]
  },
  "kernelspec": {
   "display_name": "Python 3",
   "language": "python",
   "name": "python3"
  },
  "language_info": {
   "codemirror_mode": {
    "name": "ipython",
    "version": 3
   },
   "file_extension": ".py",
   "mimetype": "text/x-python",
   "name": "python",
   "nbconvert_exporter": "python",
   "pygments_lexer": "ipython3",
   "version": "3.7.9"
  }
 },
 "nbformat": 4,
 "nbformat_minor": 1
}
